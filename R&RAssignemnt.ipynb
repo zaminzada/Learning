{
  "nbformat": 4,
  "nbformat_minor": 0,
  "metadata": {
    "colab": {
      "provenance": [],
      "authorship_tag": "ABX9TyPUzaeH3iiwoQbWRhVhudWq",
      "include_colab_link": true
    },
    "kernelspec": {
      "name": "python3",
      "display_name": "Python 3"
    },
    "language_info": {
      "name": "python"
    }
  },
  "cells": [
    {
      "cell_type": "markdown",
      "metadata": {
        "id": "view-in-github",
        "colab_type": "text"
      },
      "source": [
        "<a href=\"https://colab.research.google.com/github/zaminzada/Learning/blob/main/R%26RAssignemnt.ipynb\" target=\"_parent\"><img src=\"https://colab.research.google.com/assets/colab-badge.svg\" alt=\"Open In Colab\"/></a>"
      ]
    },
    {
      "cell_type": "code",
      "execution_count": 2,
      "metadata": {
        "colab": {
          "base_uri": "https://localhost:8080/"
        },
        "id": "90CHkvaph0pL",
        "outputId": "86af759b-09ea-4bed-cd88-f182514cd3db"
      },
      "outputs": [
        {
          "output_type": "execute_result",
          "data": {
            "text/plain": [
              "4"
            ]
          },
          "metadata": {},
          "execution_count": 2
        }
      ],
      "source": [
        "#Today's date: 12-24-24\n",
        "2*2\n",
        "#Having a repository with all your recorded versions of a file would be great to track orginial copies and get access to prior versions in the case of a bug. It's also a wonderful way to share all your data and code with others.\n"
      ]
    },
    {
      "cell_type": "code",
      "source": [],
      "metadata": {
        "id": "Wv9uP6Pkh8qk"
      },
      "execution_count": null,
      "outputs": []
    }
  ]
}